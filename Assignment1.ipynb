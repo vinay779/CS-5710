{
 "cells": [
  {
   "cell_type": "code",
   "execution_count": 32,
   "metadata": {},
   "outputs": [
    {
     "name": "stdout",
     "output_type": "stream",
     "text": [
      "The sorted list is : [19, 19, 20, 22, 24, 24, 24, 25, 25, 26]\n",
      "The max value is : 26\n",
      "The min value is : 19\n",
      "sorted list with min and max value added [19, 19, 20, 22, 24, 24, 24, 25, 25, 26, 26, 19]\n",
      "The median valus is : 24.0\n",
      "The average value is : 22.75\n",
      "The range is : 7\n"
     ]
    }
   ],
   "source": [
    "# question 1\n",
    "import math\n",
    "\n",
    "ages = [19, 22, 19, 24, 20, 25, 26, 24, 25, 24]\n",
    "# sorting the list \n",
    "ages.sort()\n",
    "\n",
    "# printing the sorted list\n",
    "print(\"The sorted list is :\",ages)\n",
    "\n",
    "#finding and printing the maximum value\n",
    "print(\"The max value is :\",max(ages))\n",
    "\n",
    "#finding and printing the minimum value\n",
    "print(\"The min value is :\",min(ages))\n",
    "\n",
    "# adding max value to list\n",
    "ages.append(max(ages))\n",
    "\n",
    "# adding min value to list\n",
    "ages.append(min(ages))\n",
    "print(\"sorted list with min and max value added\",ages)\n",
    "\n",
    "# newlist with sorted values\n",
    "newlist = sorted(ages)\n",
    "n = math.floor(len(newlist))\n",
    "median = (newlist[int(n/2)] + newlist[int(n/2)+1])/2\n",
    "print(\"The median valus is :\",median)\n",
    "\n",
    "# finding the average of list\n",
    "avg_age = sum(newlist)/len(newlist)\n",
    "print(\"The average value is :\",avg_age)\n",
    "\n",
    "# finding the range of list\n",
    "range_age = max(newlist) - min(newlist)\n",
    "print(\"The range is :\", range_age)\n",
    "\n",
    "\n",
    "\n",
    "\n",
    "\n",
    "\n",
    "\n",
    "\n",
    "\n",
    "\n",
    "\n",
    "\n",
    "\n"
   ]
  },
  {
   "cell_type": "markdown",
   "metadata": {},
   "source": [
    "question 2"
   ]
  },
  {
   "cell_type": "code",
   "execution_count": 4,
   "metadata": {},
   "outputs": [
    {
     "name": "stdout",
     "output_type": "stream",
     "text": [
      "created empty dictionary {}\n",
      "The dog dictionary contains : {'name': 'peter', 'colour': 'white', 'breed': 'husky', 'legs': 'black', 'age': 10}\n",
      "The student dictionary contains : {'first_name': 'vinay kumar', 'last_name': 'Avirneni', 'gender': 'Male', 'age': '24', 'martial status': 'single', 'skills': ['python'], 'country': 'India', 'city': 'Hyderabad', 'address': '5-561/1,hyd'}\n",
      "The length of student dictionary is 9\n",
      "['python'] the data type of skills is : <class 'list'>\n",
      "['python', 'java', 'c#']\n",
      "dict_keys(['first_name', 'last_name', 'gender', 'age', 'martial status', 'skills', 'country', 'city', 'address'])\n",
      "dict_values(['vinay kumar', 'Avirneni', 'Male', '24', 'single', ['python', 'java', 'c#'], 'India', 'Hyderabad', '5-561/1,hyd'])\n"
     ]
    }
   ],
   "source": [
    "# question 2\n",
    "\n",
    "# creating an empty dictionary called dog\n",
    "dog={}\n",
    "print(\"created empty dictionary\", dog)\n",
    "\n",
    "# creating key:value pairs for dog dictionary\n",
    "dog={\n",
    "    \"name\":  \"peter\",\n",
    "    \"colour\":\"white\",\n",
    "    \"breed\": \"husky\",\n",
    "    \"legs\":  \"black\",\n",
    "    \"age\":   10\n",
    "}\n",
    "print(\"The dog dictionary contains :\",dog)\n",
    "\n",
    "# creating a student dictionary with key:value pairs\n",
    "student={\n",
    "    \"first_name\" :\"vinay kumar\",\n",
    "    \"last_name\"  :\"Avirneni\",\n",
    "    \"gender\"     :\"Male\",\n",
    "    \"age\"        :\"24\",\n",
    "    \"martial status\":\"single\",\n",
    "    \"skills\" : [\"python\"],\n",
    "    \"country\"    :\"India\",\n",
    "    \"city\"       :\"Hyderabad\",\n",
    "    \"address\"    :\"5-561/1,hyd\"\n",
    "}\n",
    "print(\"The student dictionary contains :\",student)\n",
    "\n",
    "# printing the length of dictionary\n",
    "print(\"The length of student dictionary is\",len(student))\n",
    "\n",
    "# printing the value of skills and checking the data type\n",
    "print(student['skills'],\"the data type of skills is :\", type(student[\"skills\"]))\n",
    "\n",
    "# adding values to skills\n",
    "student[\"skills\"].extend([\"java\",\"c#\"])\n",
    "print(student['skills'])\n",
    "\n",
    "# printing the dictionary keys\n",
    "a=student.keys()\n",
    "print(a)\n",
    "\n",
    "# printing the dictionary values\n",
    "b=student.values()\n",
    "print(b)\n"
   ]
  },
  {
   "cell_type": "code",
   "execution_count": 5,
   "metadata": {},
   "outputs": [
    {
     "name": "stdout",
     "output_type": "stream",
     "text": [
      "My brothers  ('john', 'adam')\n",
      "My sisters  ('jessy', 'chealsea')\n",
      "My siblings  ('john', 'adam', 'jessy', 'chealsea')\n",
      "4\n",
      "My family members are  ('john', 'adam', 'jessy', 'chealsea', 'tom', 'mary')\n"
     ]
    }
   ],
   "source": [
    "# question 3\n",
    "\n",
    "# Create a tuple containing names of brothers\n",
    "brothers = (\"john\",\"adam\")\n",
    "print(\"My brothers \", brothers)\n",
    "\n",
    "# Create a tuple containing names of sisters\n",
    "sisters = (\"jessy\",\"chealsea\")\n",
    "print(\"My sisters \", sisters)\n",
    "\n",
    "# assigning brothers and sisters to siblings tuple\n",
    "siblings = brothers + sisters\n",
    "print(\"My siblings \", siblings)\n",
    "\n",
    "# printing the length of tuple\n",
    "print(len(siblings))\n",
    "\n",
    "# adding siblings, father and mother names to family_members tuple\n",
    "family_members = siblings + (\"tom\",\"mary\")\n",
    "print(\"My family members are \",family_members)\n"
   ]
  },
  {
   "cell_type": "code",
   "execution_count": 42,
   "metadata": {},
   "outputs": [
    {
     "name": "stdout",
     "output_type": "stream",
     "text": [
      "The length of set is 7\n",
      "Added Twitter {'Google', 'Microsoft', 'Amazon', 'IBM', 'Apple', 'Oracle', 'Twitter', 'Facebook'}\n",
      "Updated IT companies {'Google', 'Capital one', 'IBM', 'Tata elxsi', 'Apple', 'Oracle', 'Twitter', 'Amazon', 'Accenture', 'Facebook', 'Microsoft'}\n",
      "Company Capital one removed from set {'Google', 'IBM', 'Tata elxsi', 'Apple', 'Oracle', 'Twitter', 'Amazon', 'Accenture', 'Facebook', 'Microsoft'}\n",
      "The union of A and B {19, 20, 22, 24, 25, 26, 27, 28}\n",
      "The intersection of A and B {19, 20, 22, 24, 25, 26}\n",
      "A is subset of B True\n"
     ]
    }
   ],
   "source": [
    "# question 4\n",
    "\n",
    "it_companies = {'Facebook', 'Google', 'Microsoft', 'Apple', 'IBM', 'Oracle', 'Amazon'}\n",
    "A = {19, 22, 24, 20, 25, 26}\n",
    "B = {19, 22, 20, 25, 26, 24, 28, 27}\n",
    "age = [22, 19, 24, 25, 26, 24, 25, 24]\n",
    "\n",
    "# printing the length of it_companies\n",
    "print(\"The length of set is\",len(it_companies))\n",
    "\n",
    "# adding Twitter to it_companies\n",
    "it_companies.add(\"Twitter\")\n",
    "print(\"Added Twitter\", it_companies)\n",
    "\n",
    "# inserting multiple companies \n",
    "it_companies.update({\"Accenture\",\"Tata elxsi\",\"Capital one\"})\n",
    "print(\"Updated IT companies\", it_companies)\n",
    "\n",
    "# removing capital one from it_companies\n",
    "it_companies.remove(\"Capital one\")\n",
    "print(\"Company Capital one removed from set\",it_companies)\n",
    "\n",
    "# union of A and B\n",
    "C = A.union(B)\n",
    "print(\"The union of A and B\",C)\n",
    "\n",
    "# intersection of A and B\n",
    "X = A.intersection(B)\n",
    "print(\"The intersection of A and B\",X)\n",
    "\n",
    "# subset of A and B\n",
    "Y = A.issubset(B)\n",
    "print(\"A is subset of B\",Y)\n",
    "\n"
   ]
  },
  {
   "cell_type": "code",
   "execution_count": 43,
   "metadata": {},
   "outputs": [
    {
     "name": "stdout",
     "output_type": "stream",
     "text": [
      "A is disjoint of B False\n",
      "{19, 20, 22, 24, 25, 26, 27, 28}\n",
      "{19, 20, 22, 24, 25, 26, 27, 28}\n",
      "Symmetric difference of A and B set()\n"
     ]
    }
   ],
   "source": [
    "\n",
    "# disjoint of A and B\n",
    "Z = A.isdisjoint(B)\n",
    "print(\"A is disjoint of B\",Z)\n",
    "\n",
    "# join A and B\n",
    "A.update(B)\n",
    "print(A)\n",
    "\n",
    "# join B and A \n",
    "\n",
    "B.update(A)\n",
    "print(B)\n",
    "\n",
    "# symmetric difference of A and B\n",
    "U = A.symmetric_difference(B)\n",
    "print(\"Symmetric difference of A and B\",U)\n"
   ]
  },
  {
   "cell_type": "code",
   "execution_count": 39,
   "metadata": {},
   "outputs": [
    {
     "ename": "NameError",
     "evalue": "name 'A' is not defined",
     "output_type": "error",
     "traceback": [
      "\u001b[1;31m---------------------------------------------------------------------------\u001b[0m",
      "\u001b[1;31mNameError\u001b[0m                                 Traceback (most recent call last)",
      "\u001b[1;32mc:\\Users\\avirn\\OneDrive\\Desktop\\Assignment\\Assignment1.ipynb Cell 7\u001b[0m in \u001b[0;36m<cell line: 3>\u001b[1;34m()\u001b[0m\n\u001b[0;32m      <a href='vscode-notebook-cell:/c%3A/Users/avirn/OneDrive/Desktop/Assignment/Assignment1.ipynb#X22sZmlsZQ%3D%3D?line=0'>1</a>\u001b[0m \u001b[39m# deleting A set\u001b[39;00m\n\u001b[0;32m      <a href='vscode-notebook-cell:/c%3A/Users/avirn/OneDrive/Desktop/Assignment/Assignment1.ipynb#X22sZmlsZQ%3D%3D?line=1'>2</a>\u001b[0m \u001b[39mdel\u001b[39;00m(A)\n\u001b[1;32m----> <a href='vscode-notebook-cell:/c%3A/Users/avirn/OneDrive/Desktop/Assignment/Assignment1.ipynb#X22sZmlsZQ%3D%3D?line=2'>3</a>\u001b[0m \u001b[39mprint\u001b[39m(A)\n",
      "\u001b[1;31mNameError\u001b[0m: name 'A' is not defined"
     ]
    }
   ],
   "source": [
    "# deleting A set\n",
    "del(A)\n",
    "print(A)"
   ]
  },
  {
   "cell_type": "code",
   "execution_count": 36,
   "metadata": {},
   "outputs": [
    {
     "ename": "NameError",
     "evalue": "name 'B' is not defined",
     "output_type": "error",
     "traceback": [
      "\u001b[1;31m---------------------------------------------------------------------------\u001b[0m",
      "\u001b[1;31mNameError\u001b[0m                                 Traceback (most recent call last)",
      "\u001b[1;32mc:\\Users\\avirn\\OneDrive\\Desktop\\Assignment\\Assignment1.ipynb Cell 6\u001b[0m in \u001b[0;36m<cell line: 3>\u001b[1;34m()\u001b[0m\n\u001b[0;32m      <a href='vscode-notebook-cell:/c%3A/Users/avirn/OneDrive/Desktop/Assignment/Assignment1.ipynb#X16sZmlsZQ%3D%3D?line=0'>1</a>\u001b[0m \u001b[39m# deleting B set\u001b[39;00m\n\u001b[0;32m      <a href='vscode-notebook-cell:/c%3A/Users/avirn/OneDrive/Desktop/Assignment/Assignment1.ipynb#X16sZmlsZQ%3D%3D?line=1'>2</a>\u001b[0m \u001b[39mdel\u001b[39;00m(B)\n\u001b[1;32m----> <a href='vscode-notebook-cell:/c%3A/Users/avirn/OneDrive/Desktop/Assignment/Assignment1.ipynb#X16sZmlsZQ%3D%3D?line=2'>3</a>\u001b[0m \u001b[39mprint\u001b[39m(B)\n",
      "\u001b[1;31mNameError\u001b[0m: name 'B' is not defined"
     ]
    }
   ],
   "source": [
    "# deleting B set\n",
    "del(B)\n",
    "print(B)\n"
   ]
  },
  {
   "cell_type": "code",
   "execution_count": 41,
   "metadata": {},
   "outputs": [
    {
     "name": "stdout",
     "output_type": "stream",
     "text": [
      "8\n",
      "{19, 22, 24, 25, 26}\n",
      "5\n",
      "compare the length False\n"
     ]
    }
   ],
   "source": [
    "# printing the length of age list\n",
    "print(len(age))\n",
    "\n",
    "# converting age list to set\n",
    "W = set(age)\n",
    "print(W)\n",
    "\n",
    "# printing the len of age set \n",
    "print(len(W))\n",
    "\n",
    "# comparing the length of list and set\n",
    "print(\"compare the length\", len(age)==len(W))"
   ]
  },
  {
   "cell_type": "code",
   "execution_count": 7,
   "metadata": {},
   "outputs": [
    {
     "name": "stdout",
     "output_type": "stream",
     "text": [
      "The area of circle is 2826.0\n",
      "The circumference of circle is 188.4\n",
      "The area of circle is 5024.0\n"
     ]
    }
   ],
   "source": [
    "# question 5\n",
    "\n",
    "# given Radius of circle is 30\n",
    "R = 30 \n",
    "\n",
    "# assign the value to a variable name of area_of_circle\n",
    "area_of_circle = 3.14*R*R\n",
    "print(\"The area of circle is\", area_of_circle)\n",
    "\n",
    "# calculating circumference of circle\n",
    "circum_of_circle = 2*3.14*R\n",
    "print(\"The circumference of circle is\", circum_of_circle)\n",
    "\n",
    "# taking radius as user input and calculating the area of circle\n",
    "r = float(input(\"Enter the radius: \"))\n",
    "area = 3.14*r*r\n",
    "print(\"The area of circle is\", area)"
   ]
  },
  {
   "cell_type": "code",
   "execution_count": 44,
   "metadata": {},
   "outputs": [
    {
     "name": "stdout",
     "output_type": "stream",
     "text": [
      "Number of unique words 10\n"
     ]
    }
   ],
   "source": [
    "# question 6\n",
    "\n",
    "# assigning given string to str\n",
    "str =\"I am a teacher and I love to inspire and teach people\"\n",
    "\n",
    "# storing string in the form of list of words\n",
    "s = set(str.split(\" \"))\n",
    "print(\"Number of unique words\", len(s))\n"
   ]
  },
  {
   "cell_type": "code",
   "execution_count": 46,
   "metadata": {},
   "outputs": [
    {
     "name": "stdout",
     "output_type": "stream",
     "text": [
      "Name\tAge\tCountry\tCity\n",
      "Asabeneh\t250\tFinland\tHelsinki\n"
     ]
    }
   ],
   "source": [
    "\n",
    "# question 7\n",
    "\n",
    "# printing the below print statement\n",
    "print(\"Name\\tAge\\tCountry\\tCity\\nAsabeneh\\t250\\tFinland\\tHelsinki\")\n"
   ]
  },
  {
   "cell_type": "code",
   "execution_count": 21,
   "metadata": {},
   "outputs": [
    {
     "name": "stdout",
     "output_type": "stream",
     "text": [
      "The area of a circle with radius 10 is 314.0 meters square\n"
     ]
    }
   ],
   "source": [
    "# question 8\n",
    "\n",
    "# Given radius = 10\n",
    "r = 10\n",
    "a = 3.14*r*r\n",
    "\n",
    "#The placeholders can be identified using numbered indexes {0}, or even empty placeholders {} \n",
    "#Inside the placeholders we can add a formatting type to format the result\n",
    "str = \"The area of a circle with radius {} is {} meters square\".format(r,a)\n",
    "print(str)\n"
   ]
  },
  {
   "cell_type": "code",
   "execution_count": 51,
   "metadata": {},
   "outputs": [
    {
     "name": "stdout",
     "output_type": "stream",
     "text": [
      "user input [23, 12, 21]\n",
      "[10.432616, 5.443104, 9.525432]\n"
     ]
    }
   ],
   "source": [
    "# question 9\n",
    "\n",
    "\n",
    "w_lb = []\n",
    "w_kg = []\n",
    "\n",
    "# user input to enter the number of students\n",
    "n = int(input(\"Enter number of students:\"))\n",
    "\n",
    "# using for loop\n",
    "\n",
    "for i in range(0, n):\n",
    "    uinp = int(input())\n",
    "    w_lb.append(uinp)\n",
    "\n",
    "    kg = uinp * 0.453592\n",
    "    w_kg.append(kg)\n",
    "print(\"user input\",w_lb)\n",
    "print(w_kg)\n"
   ]
  },
  {
   "cell_type": "code",
   "execution_count": 20,
   "metadata": {},
   "outputs": [
    {
     "name": "stdout",
     "output_type": "stream",
     "text": [
      "[[7], [3], [1], [6]] [[10], [11], [6], [2]] [0, 1, 0, 1] [0, 0, 1, 0]\n"
     ]
    }
   ],
   "source": [
    "\n",
    "from sklearn.model_selection import train_test_split\n",
    "from sklearn.neighbors import KNeighborsClassifier\n",
    "from sklearn.metrics import confusion_matrix\n",
    "\n",
    "data_points = [[1,0],[2,0],[3,1],[6,1],[6,1],[7,0],[10,0],[11,0]]\n",
    "x = [[1],[2],[3],[6],[6],[7],[10],[11]]\n",
    "y = [0,0,1,1,1,0,0,0]\n",
    "\n",
    "# splitting data\n",
    "data_train, data_test, pred_train, pred_test = train_test_split(x,y, test_size=0.5, random_state=33)\n",
    "\n",
    "print(data_train, data_test, pred_train, pred_test)\n"
   ]
  },
  {
   "cell_type": "code",
   "execution_count": 13,
   "metadata": {},
   "outputs": [
    {
     "data": {
      "text/html": [
       "<style>#sk-container-id-2 {color: black;background-color: white;}#sk-container-id-2 pre{padding: 0;}#sk-container-id-2 div.sk-toggleable {background-color: white;}#sk-container-id-2 label.sk-toggleable__label {cursor: pointer;display: block;width: 100%;margin-bottom: 0;padding: 0.3em;box-sizing: border-box;text-align: center;}#sk-container-id-2 label.sk-toggleable__label-arrow:before {content: \"▸\";float: left;margin-right: 0.25em;color: #696969;}#sk-container-id-2 label.sk-toggleable__label-arrow:hover:before {color: black;}#sk-container-id-2 div.sk-estimator:hover label.sk-toggleable__label-arrow:before {color: black;}#sk-container-id-2 div.sk-toggleable__content {max-height: 0;max-width: 0;overflow: hidden;text-align: left;background-color: #f0f8ff;}#sk-container-id-2 div.sk-toggleable__content pre {margin: 0.2em;color: black;border-radius: 0.25em;background-color: #f0f8ff;}#sk-container-id-2 input.sk-toggleable__control:checked~div.sk-toggleable__content {max-height: 200px;max-width: 100%;overflow: auto;}#sk-container-id-2 input.sk-toggleable__control:checked~label.sk-toggleable__label-arrow:before {content: \"▾\";}#sk-container-id-2 div.sk-estimator input.sk-toggleable__control:checked~label.sk-toggleable__label {background-color: #d4ebff;}#sk-container-id-2 div.sk-label input.sk-toggleable__control:checked~label.sk-toggleable__label {background-color: #d4ebff;}#sk-container-id-2 input.sk-hidden--visually {border: 0;clip: rect(1px 1px 1px 1px);clip: rect(1px, 1px, 1px, 1px);height: 1px;margin: -1px;overflow: hidden;padding: 0;position: absolute;width: 1px;}#sk-container-id-2 div.sk-estimator {font-family: monospace;background-color: #f0f8ff;border: 1px dotted black;border-radius: 0.25em;box-sizing: border-box;margin-bottom: 0.5em;}#sk-container-id-2 div.sk-estimator:hover {background-color: #d4ebff;}#sk-container-id-2 div.sk-parallel-item::after {content: \"\";width: 100%;border-bottom: 1px solid gray;flex-grow: 1;}#sk-container-id-2 div.sk-label:hover label.sk-toggleable__label {background-color: #d4ebff;}#sk-container-id-2 div.sk-serial::before {content: \"\";position: absolute;border-left: 1px solid gray;box-sizing: border-box;top: 0;bottom: 0;left: 50%;z-index: 0;}#sk-container-id-2 div.sk-serial {display: flex;flex-direction: column;align-items: center;background-color: white;padding-right: 0.2em;padding-left: 0.2em;position: relative;}#sk-container-id-2 div.sk-item {position: relative;z-index: 1;}#sk-container-id-2 div.sk-parallel {display: flex;align-items: stretch;justify-content: center;background-color: white;position: relative;}#sk-container-id-2 div.sk-item::before, #sk-container-id-2 div.sk-parallel-item::before {content: \"\";position: absolute;border-left: 1px solid gray;box-sizing: border-box;top: 0;bottom: 0;left: 50%;z-index: -1;}#sk-container-id-2 div.sk-parallel-item {display: flex;flex-direction: column;z-index: 1;position: relative;background-color: white;}#sk-container-id-2 div.sk-parallel-item:first-child::after {align-self: flex-end;width: 50%;}#sk-container-id-2 div.sk-parallel-item:last-child::after {align-self: flex-start;width: 50%;}#sk-container-id-2 div.sk-parallel-item:only-child::after {width: 0;}#sk-container-id-2 div.sk-dashed-wrapped {border: 1px dashed gray;margin: 0 0.4em 0.5em 0.4em;box-sizing: border-box;padding-bottom: 0.4em;background-color: white;}#sk-container-id-2 div.sk-label label {font-family: monospace;font-weight: bold;display: inline-block;line-height: 1.2em;}#sk-container-id-2 div.sk-label-container {text-align: center;}#sk-container-id-2 div.sk-container {/* jupyter's `normalize.less` sets `[hidden] { display: none; }` but bootstrap.min.css set `[hidden] { display: none !important; }` so we also need the `!important` here to be able to override the default hidden behavior on the sphinx rendered scikit-learn.org. See: https://github.com/scikit-learn/scikit-learn/issues/21755 */display: inline-block !important;position: relative;}#sk-container-id-2 div.sk-text-repr-fallback {display: none;}</style><div id=\"sk-container-id-2\" class=\"sk-top-container\"><div class=\"sk-text-repr-fallback\"><pre>KNeighborsClassifier(metric=&#x27;euclidean&#x27;, n_neighbors=3)</pre><b>In a Jupyter environment, please rerun this cell to show the HTML representation or trust the notebook. <br />On GitHub, the HTML representation is unable to render, please try loading this page with nbviewer.org.</b></div><div class=\"sk-container\" hidden><div class=\"sk-item\"><div class=\"sk-estimator sk-toggleable\"><input class=\"sk-toggleable__control sk-hidden--visually\" id=\"sk-estimator-id-2\" type=\"checkbox\" checked><label for=\"sk-estimator-id-2\" class=\"sk-toggleable__label sk-toggleable__label-arrow\">KNeighborsClassifier</label><div class=\"sk-toggleable__content\"><pre>KNeighborsClassifier(metric=&#x27;euclidean&#x27;, n_neighbors=3)</pre></div></div></div></div></div>"
      ],
      "text/plain": [
       "KNeighborsClassifier(metric='euclidean', n_neighbors=3)"
      ]
     },
     "execution_count": 13,
     "metadata": {},
     "output_type": "execute_result"
    }
   ],
   "source": [
    "\n",
    "classifier = KNeighborsClassifier(n_neighbors=3,p=2,metric='euclidean')\n",
    "classifier.fit(x_train, y_train)\n"
   ]
  },
  {
   "cell_type": "code",
   "execution_count": 14,
   "metadata": {},
   "outputs": [
    {
     "data": {
      "text/plain": [
       "array([1, 1, 1, 1])"
      ]
     },
     "execution_count": 14,
     "metadata": {},
     "output_type": "execute_result"
    }
   ],
   "source": [
    "\n",
    "y_pred = classifier.predict(x_test)\n",
    "y_pred"
   ]
  },
  {
   "cell_type": "code",
   "execution_count": 15,
   "metadata": {},
   "outputs": [
    {
     "data": {
      "text/plain": [
       "array([[0, 3],\n",
       "       [0, 1]], dtype=int64)"
      ]
     },
     "execution_count": 15,
     "metadata": {},
     "output_type": "execute_result"
    }
   ],
   "source": [
    "\n",
    "\n",
    "confm = confusion_matrix(y_test, y_pred)\n",
    "confm"
   ]
  },
  {
   "cell_type": "code",
   "execution_count": 16,
   "metadata": {},
   "outputs": [],
   "source": [
    "\n",
    "\n",
    "TP = confm[0][0]\n",
    "TN = confm[1][1]\n",
    "FP = confm[1][0]\n",
    "FN = confm[0][1]\n"
   ]
  },
  {
   "cell_type": "code",
   "execution_count": 17,
   "metadata": {},
   "outputs": [
    {
     "data": {
      "text/plain": [
       "0.25"
      ]
     },
     "execution_count": 17,
     "metadata": {},
     "output_type": "execute_result"
    }
   ],
   "source": [
    "\n",
    "\n",
    "Accuracy = (TP+TN)/4\n",
    "Accuracy"
   ]
  },
  {
   "cell_type": "code",
   "execution_count": 18,
   "metadata": {},
   "outputs": [
    {
     "data": {
      "text/plain": [
       "0.0"
      ]
     },
     "execution_count": 18,
     "metadata": {},
     "output_type": "execute_result"
    }
   ],
   "source": [
    "\n",
    "Sensitivity  = TP/(TP+FN)\n",
    "Sensitivity\n"
   ]
  },
  {
   "cell_type": "code",
   "execution_count": 19,
   "metadata": {},
   "outputs": [
    {
     "data": {
      "text/plain": [
       "1.0"
      ]
     },
     "execution_count": 19,
     "metadata": {},
     "output_type": "execute_result"
    }
   ],
   "source": [
    "\n",
    "Specificity = TN/(FP+TN)\n",
    "Specificity"
   ]
  }
 ],
 "metadata": {
  "kernelspec": {
   "display_name": "Python 3.10.6 64-bit (windows store)",
   "language": "python",
   "name": "python3"
  },
  "language_info": {
   "codemirror_mode": {
    "name": "ipython",
    "version": 3
   },
   "file_extension": ".py",
   "mimetype": "text/x-python",
   "name": "python",
   "nbconvert_exporter": "python",
   "pygments_lexer": "ipython3",
   "version": "3.10.6"
  },
  "orig_nbformat": 4,
  "vscode": {
   "interpreter": {
    "hash": "1f1a619644bd59c0ad168b009c5257060f1f7e31663b90ecdbfc355bef4f9975"
   }
  }
 },
 "nbformat": 4,
 "nbformat_minor": 2
}
